{
  "nbformat": 4,
  "nbformat_minor": 0,
  "metadata": {
    "colab": {
      "provenance": []
    },
    "kernelspec": {
      "name": "python3",
      "display_name": "Python 3"
    },
    "language_info": {
      "name": "python"
    }
  },
  "cells": [
    {
      "cell_type": "code",
      "source": [
        "import numpy as np\n",
        "import os\n",
        "import cv2"
      ],
      "metadata": {
        "id": "ksSkyRjwy7mN"
      },
      "execution_count": 2,
      "outputs": []
    },
    {
      "cell_type": "code",
      "source": [
        "classes = ['cat', 'cow', 'dog', 'lamb', 'zebra']\n",
        "data_dir = 'dataset'"
      ],
      "metadata": {
        "id": "_NSVx_dA1m9q"
      },
      "execution_count": 3,
      "outputs": []
    },
    {
      "cell_type": "code",
      "source": [
        "X, y = [], []"
      ],
      "metadata": {
        "id": "pSCK8Ook1qdq"
      },
      "execution_count": 4,
      "outputs": []
    },
    {
      "cell_type": "code",
      "source": [
        "def load_image_flatten(img_path, size=(128 , 128)):\n",
        "    img = cv2.imread(img_path)\n",
        "    if img is None:\n",
        "        print(f\"Error loading image: {img_path}\")\n",
        "        return None\n",
        "    img = cv2.resize(img, size)\n",
        "    gray = cv2.cvtColor(img, cv2.COLOR_BGR2GRAY)\n",
        "    return gray.flatten()"
      ],
      "metadata": {
        "id": "YQ6ufO9Q13kx"
      },
      "execution_count": 5,
      "outputs": []
    },
    {
      "cell_type": "code",
      "source": [
        "for label, cls in enumerate(classes):\n",
        "    cls_dir = os.path.join(data_dir, cls)\n",
        "    if not os.path.isdir(cls_dir):\n",
        "        continue\n",
        "    for file in os.listdir(cls_dir):\n",
        "        path = os.path.join(cls_dir, file)\n",
        "        features = load_image_flatten(path)\n",
        "        if features is not None:\n",
        "            X.append(features)\n",
        "            y.append(label)"
      ],
      "metadata": {
        "id": "QVILWowb16YJ"
      },
      "execution_count": 6,
      "outputs": []
    },
    {
      "cell_type": "code",
      "source": [
        "X = np.array(X)\n",
        "y = np.array(y)"
      ],
      "metadata": {
        "id": "skPaWra519ZA"
      },
      "execution_count": 7,
      "outputs": []
    },
    {
      "cell_type": "code",
      "source": [
        "def my_pca_with_scaling(X, k):\n",
        "    X_mean = np.mean(X, axis=0)\n",
        "    X_std = np.std(X, axis=0)\n",
        "    X_std[X_std == 0] = 1\n",
        "    X_scaled = (X - X.mean(axis=0)) / X.std(axis=0)\n",
        "\n",
        "    cov_mat = np.cov(X_scaled, rowvar=False)\n",
        "\n",
        "    eigenvalues, eigenvectors = np.linalg.eigh(cov_mat)\n",
        "\n",
        "    sorted_idx = np.argsort(eigenvalues)[::-1]\n",
        "    eigenvectors = eigenvectors[:, sorted_idx]\n",
        "    eigenvalues = eigenvalues[sorted_idx]\n",
        "\n",
        "    eigenvectors_k = eigenvectors[:, :k]\n",
        "\n",
        "\n",
        "    X_reduced = np.dot(X_scaled, eigenvectors_k)\n",
        "\n",
        "    return X_reduced, eigenvectors_k, eigenvalues[:k]"
      ],
      "metadata": {
        "id": "b-tWf7aV2Amg"
      },
      "execution_count": 8,
      "outputs": []
    },
    {
      "cell_type": "code",
      "source": [
        "import matplotlib.pyplot as plt\n",
        "n_components = min(100, X.shape[0])\n",
        "X_pca, eigenvectors_k, eigenvalues_k = my_pca_with_scaling(X, n_components)"
      ],
      "metadata": {
        "id": "P4wptas62Dd4"
      },
      "execution_count": 9,
      "outputs": []
    },
    {
      "cell_type": "code",
      "source": [
        "from sklearn.model_selection import train_test_split\n",
        "X_train, X_test, y_train, y_test = train_test_split(\n",
        "    X_pca, y, test_size=0.2, random_state=42, stratify=y\n",
        ")"
      ],
      "metadata": {
        "id": "zMT_CSHp2HAo"
      },
      "execution_count": 10,
      "outputs": []
    },
    {
      "cell_type": "code",
      "source": [
        "from sklearn.linear_model import RidgeClassifier\n",
        "clf = RidgeClassifier(alpha=1.0)\n",
        "clf.fit(X_train, y_train)\n",
        "y_pred = clf.predict(X_test)"
      ],
      "metadata": {
        "id": "IMPiZGwH2MWI"
      },
      "execution_count": 11,
      "outputs": []
    },
    {
      "cell_type": "code",
      "source": [
        "from sklearn.metrics import accuracy_score, classification_report\n",
        "accuracy = accuracy_score(y_test, y_pred)\n",
        "print(f\"Accuracy: {accuracy*100:.2f} %\")\n",
        "print(\"\\nClassification Report:\")\n",
        "print(classification_report(y_test, y_pred, target_names=classes))"
      ],
      "metadata": {
        "colab": {
          "base_uri": "https://localhost:8080/"
        },
        "id": "EodcTvmC2hf3",
        "outputId": "c758a6e4-78f7-49e9-ea66-74d42ce9d8af"
      },
      "execution_count": 12,
      "outputs": [
        {
          "output_type": "stream",
          "name": "stdout",
          "text": [
            "Accuracy: 44.34 %\n",
            "\n",
            "Classification Report:\n",
            "              precision    recall  f1-score   support\n",
            "\n",
            "         cat       0.60      0.68      0.64        22\n",
            "         cow       0.22      0.20      0.21        20\n",
            "         dog       0.45      0.48      0.47        21\n",
            "        lamb       0.50      0.62      0.55        21\n",
            "       zebra       0.33      0.23      0.27        22\n",
            "\n",
            "    accuracy                           0.44       106\n",
            "   macro avg       0.42      0.44      0.43       106\n",
            "weighted avg       0.42      0.44      0.43       106\n",
            "\n"
          ]
        }
      ]
    },
    {
      "cell_type": "code",
      "source": [
        "from sklearn.metrics import accuracy_score, classification_report, confusion_matrix\n",
        "import seaborn as sns\n",
        "cm = confusion_matrix(y_test, y_pred)\n",
        "plt.figure(figsize=(6,5))\n",
        "sns.heatmap(cm, annot=True, fmt='d', cmap='Blues', xticklabels=classes, yticklabels=classes)\n",
        "plt.title(\"Confusion Matrix\")\n",
        "plt.xlabel(\"Predicted\")\n",
        "plt.ylabel(\"Actual\")\n",
        "plt.tight_layout()\n",
        "plt.show()"
      ],
      "metadata": {
        "colab": {
          "base_uri": "https://localhost:8080/",
          "height": 507
        },
        "id": "w4ALvGYh8Ouh",
        "outputId": "1ea209f4-2089-4a89-b84d-93fd1c767272"
      },
      "execution_count": 13,
      "outputs": [
        {
          "output_type": "display_data",
          "data": {
            "text/plain": [
              "<Figure size 600x500 with 2 Axes>"
            ],
            "image/png": "[encoded data removed]"
          },
          "metadata": {}
        }
      ]
    },
    {
      "cell_type": "code",
      "source": [
        "import random\n",
        "for i in random.sample(range(len(X_test)), 5):\n",
        "    print(f\"Sample {i}: Predicted: {classes[y_pred[i]]} | Actual: {classes[y_test[i]]}\")"
      ],
      "metadata": {
        "colab": {
          "base_uri": "https://localhost:8080/"
        },
        "id": "bn4v1vvz2ole",
        "outputId": "1a6d0002-b3cc-40a4-a7ba-12b9c0602d71"
      },
      "execution_count": 14,
      "outputs": [
        {
          "output_type": "stream",
          "name": "stdout",
          "text": [
            "Sample 10: Predicted: lamb | Actual: lamb\n",
            "Sample 87: Predicted: cow | Actual: cat\n",
            "Sample 5: Predicted: zebra | Actual: cow\n",
            "Sample 102: Predicted: lamb | Actual: lamb\n",
            "Sample 12: Predicted: cat | Actual: cat\n"
          ]
        }
      ]
    }
  ]
}