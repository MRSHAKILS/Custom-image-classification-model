{
 "cells": [
  {
   "cell_type": "code",
   "execution_count": null,
   "metadata": {
    "_cell_guid": "b1076dfc-b9ad-4769-8c92-a6c4dae69d19",
    "_uuid": "8f2839f25d086af736a60e9eeb907d3b93b6e0e5",
    "trusted": true
   },
   "outputs": [],
   "source": [
    "# This Python 3 environment comes with many helpful analytics libraries installed\n",
    "# It is defined by the kaggle/python Docker image: https://github.com/kaggle/docker-python\n",
    "# For example, here's several helpful packages to load\n",
    "\n",
    "import numpy as np # linear algebra\n",
    "import pandas as pd # data processing, CSV file I/O (e.g. pd.read_csv)\n",
    "\n",
    "# Input data files are available in the read-only \"../input/\" directory\n",
    "# For example, running this (by clicking run or pressing Shift+Enter) will list all files under the input directory\n",
    "\n",
    "import os\n",
    "for dirname, _, filenames in os.walk('/kaggle/input'):\n",
    "    for filename in filenames:\n",
    "        print(os.path.join(dirname, filename))\n",
    "\n",
    "# You can write up to 20GB to the current directory (/kaggle/working/) that gets preserved as output when you create a version using \"Save & Run All\" \n",
    "# You can also write temporary files to /kaggle/temp/, but they won't be saved outside of the current session"
   ]
  },
  {
   "cell_type": "code",
   "execution_count": 19,
   "metadata": {
    "execution": {
     "iopub.execute_input": "2025-07-21T12:23:49.148874Z",
     "iopub.status.busy": "2025-07-21T12:23:49.148147Z",
     "iopub.status.idle": "2025-07-21T12:23:49.418820Z",
     "shell.execute_reply": "2025-07-21T12:23:49.418072Z",
     "shell.execute_reply.started": "2025-07-21T12:23:49.148842Z"
    },
    "trusted": true
   },
   "outputs": [],
   "source": [
    "import os\n",
    "import cv2\n",
    "import numpy as np\n",
    "import matplotlib.pyplot as plt\n",
    "from skimage.feature import hog, local_binary_pattern\n",
    "from sklearn.preprocessing import LabelEncoder, StandardScaler\n",
    "from sklearn.decomposition import PCA\n",
    "from sklearn.model_selection import train_test_split\n",
    "from sklearn.ensemble import RandomForestClassifier, VotingClassifier\n",
    "from sklearn.svm import SVC\n",
    "from sklearn.metrics import classification_report, confusion_matrix, accuracy_score\n",
    "import seaborn as sns\n",
    "import xgboost as xgb"
   ]
  },
  {
   "cell_type": "code",
   "execution_count": 20,
   "metadata": {
    "execution": {
     "iopub.execute_input": "2025-07-21T12:24:04.151250Z",
     "iopub.status.busy": "2025-07-21T12:24:04.150499Z",
     "iopub.status.idle": "2025-07-21T12:24:04.158270Z",
     "shell.execute_reply": "2025-07-21T12:24:04.157550Z",
     "shell.execute_reply.started": "2025-07-21T12:24:04.151223Z"
    },
    "trusted": true
   },
   "outputs": [],
   "source": [
    "# 1. Feature extractors\n",
    "def extract_hog_features(image):\n",
    "    gray = cv2.cvtColor(image, cv2.COLOR_BGR2GRAY)\n",
    "    features, _ = hog(gray, orientations=9, pixels_per_cell=(8, 8),\n",
    "                      cells_per_block=(2, 2), block_norm='L2-Hys', visualize=True)\n",
    "    return features\n",
    "\n",
    "def extract_color_histogram(image, bins=(8, 8, 8)):\n",
    "    hsv = cv2.cvtColor(image, cv2.COLOR_BGR2HSV)\n",
    "    hist = cv2.calcHist([hsv], [0, 1, 2], None, bins, [0, 180, 0, 256, 0, 256])\n",
    "    cv2.normalize(hist, hist)\n",
    "    return hist.flatten()\n",
    "\n",
    "def extract_lbp_features(image):\n",
    "    gray = cv2.cvtColor(image, cv2.COLOR_BGR2GRAY)\n",
    "    lbp = local_binary_pattern(gray, P=8, R=1, method='uniform')\n",
    "    (hist, _) = np.histogram(lbp.ravel(), bins=np.arange(0, 10), range=(0, 9))\n",
    "    hist = hist.astype(\"float\")\n",
    "    hist /= (hist.sum() + 1e-6)\n",
    "    return hist\n",
    "\n",
    "def extract_combined_features(image):\n",
    "    return np.hstack([\n",
    "        extract_hog_features(image),\n",
    "        extract_color_histogram(image),\n",
    "        extract_lbp_features(image)\n",
    "    ])\n"
   ]
  },
  {
   "cell_type": "code",
   "execution_count": null,
   "metadata": {
    "execution": {
     "iopub.execute_input": "2025-07-21T12:24:17.344760Z",
     "iopub.status.busy": "2025-07-21T12:24:17.344183Z",
     "iopub.status.idle": "2025-07-21T12:25:05.993399Z",
     "shell.execute_reply": "2025-07-21T12:25:05.992793Z",
     "shell.execute_reply.started": "2025-07-21T12:24:17.344737Z"
    },
    "trusted": true
   },
   "outputs": [],
   "source": [
    "# 2. Load and preprocess dataset\n",
    "data_dir = \"/kaggle/input/dataset\"\n",
    "categories = os.listdir(data_dir)\n",
    "\n",
    "X, y = [], []\n",
    "for label in categories:\n",
    "    folder_path = os.path.join(data_dir, label)\n",
    "    for img_name in os.listdir(folder_path):\n",
    "        img_path = os.path.join(folder_path, img_name)\n",
    "        image = cv2.imread(img_path)\n",
    "        if image is not None:\n",
    "            image = cv2.resize(image, (128, 128))\n",
    "            features = extract_combined_features(image)\n",
    "            X.append(features)\n",
    "            y.append(label)\n",
    "\n",
    "X = np.array(X)\n",
    "y = np.array(y)\n"
   ]
  },
  {
   "cell_type": "code",
   "execution_count": 22,
   "metadata": {
    "execution": {
     "iopub.execute_input": "2025-07-21T12:25:28.793457Z",
     "iopub.status.busy": "2025-07-21T12:25:28.792715Z",
     "iopub.status.idle": "2025-07-21T12:25:28.895399Z",
     "shell.execute_reply": "2025-07-21T12:25:28.894588Z",
     "shell.execute_reply.started": "2025-07-21T12:25:28.793435Z"
    },
    "trusted": true
   },
   "outputs": [],
   "source": [
    "# 3. Encode labels and normalize\n",
    "le = LabelEncoder()\n",
    "y_encoded = le.fit_transform(y)\n",
    "\n",
    "scaler = StandardScaler()\n",
    "X_scaled = scaler.fit_transform(X)"
   ]
  },
  {
   "cell_type": "code",
   "execution_count": 23,
   "metadata": {
    "execution": {
     "iopub.execute_input": "2025-07-21T12:25:40.116708Z",
     "iopub.status.busy": "2025-07-21T12:25:40.115916Z",
     "iopub.status.idle": "2025-07-21T12:25:40.771157Z",
     "shell.execute_reply": "2025-07-21T12:25:40.768651Z",
     "shell.execute_reply.started": "2025-07-21T12:25:40.116664Z"
    },
    "trusted": true
   },
   "outputs": [],
   "source": [
    "# 4. PCA for dimensionality reduction\n",
    "pca = PCA(n_components=100)\n",
    "X_pca = pca.fit_transform(X_scaled)"
   ]
  },
  {
   "cell_type": "code",
   "execution_count": 24,
   "metadata": {
    "execution": {
     "iopub.execute_input": "2025-07-21T12:25:54.449063Z",
     "iopub.status.busy": "2025-07-21T12:25:54.448312Z",
     "iopub.status.idle": "2025-07-21T12:25:54.454452Z",
     "shell.execute_reply": "2025-07-21T12:25:54.453747Z",
     "shell.execute_reply.started": "2025-07-21T12:25:54.449040Z"
    },
    "trusted": true
   },
   "outputs": [],
   "source": [
    "# 5. Train-test split\n",
    "X_train, X_test, y_train, y_test = train_test_split(X_pca, y_encoded, test_size=0.2, stratify=y_encoded, random_state=42)"
   ]
  },
  {
   "cell_type": "code",
   "execution_count": 25,
   "metadata": {
    "execution": {
     "iopub.execute_input": "2025-07-21T12:26:11.652719Z",
     "iopub.status.busy": "2025-07-21T12:26:11.652165Z",
     "iopub.status.idle": "2025-07-21T12:26:15.774909Z",
     "shell.execute_reply": "2025-07-21T12:26:15.774294Z",
     "shell.execute_reply.started": "2025-07-21T12:26:11.652691Z"
    },
    "trusted": true
   },
   "outputs": [],
   "source": [
    "# 6. Ensemble classifier\n",
    "rf = RandomForestClassifier(n_estimators=150, max_depth=8, random_state=42)\n",
    "svm = SVC(kernel='rbf', C=10, probability=True)\n",
    "xgb_model = xgb.XGBClassifier(use_label_encoder=False, eval_metric='mlogloss', learning_rate=0.05)\n",
    "\n",
    "ensemble = VotingClassifier(estimators=[\n",
    "    ('rf', rf), ('svm', svm), ('xgb', xgb_model)\n",
    "], voting='soft')\n",
    "\n",
    "ensemble.fit(X_train, y_train)\n",
    "y_pred = ensemble.predict(X_test)"
   ]
  },
  {
   "cell_type": "code",
   "execution_count": 26,
   "metadata": {
    "execution": {
     "iopub.execute_input": "2025-07-21T12:26:23.882037Z",
     "iopub.status.busy": "2025-07-21T12:26:23.881729Z",
     "iopub.status.idle": "2025-07-21T12:26:23.894535Z",
     "shell.execute_reply": "2025-07-21T12:26:23.893742Z",
     "shell.execute_reply.started": "2025-07-21T12:26:23.882017Z"
    },
    "trusted": true
   },
   "outputs": [
    {
     "name": "stdout",
     "output_type": "stream",
     "text": [
      "\n",
      "✅ Accuracy: 0.5607476635514018\n",
      "\n",
      "📄 Classification Report:\n",
      "\n",
      "              precision    recall  f1-score   support\n",
      "\n",
      "         cat       0.52      0.55      0.53        22\n",
      "         cow       0.53      0.40      0.46        20\n",
      "         dog       0.47      0.38      0.42        21\n",
      "        lamb       0.63      0.77      0.69        22\n",
      "       zebra       0.60      0.68      0.64        22\n",
      "\n",
      "    accuracy                           0.56       107\n",
      "   macro avg       0.55      0.56      0.55       107\n",
      "weighted avg       0.55      0.56      0.55       107\n",
      "\n"
     ]
    }
   ],
   "source": [
    "# 7. Evaluation\n",
    "print(\"\\n✅ Accuracy:\", accuracy_score(y_test, y_pred))\n",
    "print(\"\\n📄 Classification Report:\\n\")\n",
    "print(classification_report(y_test, y_pred, target_names=le.classes_))"
   ]
  },
  {
   "cell_type": "code",
   "execution_count": 27,
   "metadata": {
    "execution": {
     "iopub.execute_input": "2025-07-21T12:26:40.299485Z",
     "iopub.status.busy": "2025-07-21T12:26:40.298897Z",
     "iopub.status.idle": "2025-07-21T12:26:40.528672Z",
     "shell.execute_reply": "2025-07-21T12:26:40.527999Z",
     "shell.execute_reply.started": "2025-07-21T12:26:40.299461Z"
    },
    "trusted": true
   },
   "outputs": [
    {
     "data": {
      "image/png": "[encoded data removed]",
      "text/plain": [
       "<Figure size 800x600 with 2 Axes>"
      ]
     },
     "metadata": {},
     "output_type": "display_data"
    }
   ],
   "source": [
    "# 8. Confusion Matrix\n",
    "cm = confusion_matrix(y_test, y_pred)\n",
    "plt.figure(figsize=(8, 6))\n",
    "sns.heatmap(cm, annot=True, fmt='d', xticklabels=le.classes_, yticklabels=le.classes_, cmap='Blues')\n",
    "plt.title(\"Confusion Matrix\")\n",
    "plt.xlabel(\"Predicted\")\n",
    "plt.ylabel(\"Actual\")\n",
    "plt.show()"
   ]
  }
 ],
 "metadata": {
  "kaggle": {
   "accelerator": "nvidiaTeslaT4",
   "dataSources": [
    {
     "datasetId": 7802246,
     "sourceId": 12374113,
     "sourceType": "datasetVersion"
    }
   ],
   "dockerImageVersionId": 31090,
   "isGpuEnabled": true,
   "isInternetEnabled": true,
   "language": "python",
   "sourceType": "notebook"
  },
  "kernelspec": {
   "display_name": "Python 3",
   "language": "python",
   "name": "python3"
  },
  "language_info": {
   "codemirror_mode": {
    "name": "ipython",
    "version": 3
   },
   "file_extension": ".py",
   "mimetype": "text/x-python",
   "name": "python",
   "nbconvert_exporter": "python",
   "pygments_lexer": "ipython3",
   "version": "3.11.13"
  }
 },
 "nbformat": 4,
 "nbformat_minor": 4
}
