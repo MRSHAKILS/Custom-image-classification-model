{
  "nbformat": 4,
  "nbformat_minor": 0,
  "metadata": {
    "colab": {
      "provenance": []
    },
    "kernelspec": {
      "name": "python3",
      "display_name": "Python 3"
    },
    "language_info": {
      "name": "python"
    }
  },
  "cells": [
    {
      "cell_type": "code",
      "source": [
        "import numpy as np\n",
        "import os\n",
        "import cv2"
      ],
      "metadata": {
        "id": "qjIU5JmKQsB6"
      },
      "execution_count": 5,
      "outputs": []
    },
    {
      "cell_type": "code",
      "source": [
        "classes = ['cat', 'cow', 'dog', 'lamb', 'zebra']\n",
        "data_dir = 'dataset'"
      ],
      "metadata": {
        "id": "wdwZ_9XBQwm2"
      },
      "execution_count": 6,
      "outputs": []
    },
    {
      "cell_type": "code",
      "source": [
        "X, y = [], []"
      ],
      "metadata": {
        "id": "Scyuy9M1Qzco"
      },
      "execution_count": 7,
      "outputs": []
    },
    {
      "cell_type": "code",
      "source": [
        "def load_image_flatten(img_path, size=(128 , 128)):\n",
        "    img = cv2.imread(img_path)\n",
        "    if img is None:\n",
        "        print(f\"Error loading image: {img_path}\")\n",
        "        return None\n",
        "    img = cv2.resize(img, size)\n",
        "    gray = cv2.cvtColor(img, cv2.COLOR_BGR2GRAY)\n",
        "    return gray.flatten()"
      ],
      "metadata": {
        "id": "jn08PunVQ1mZ"
      },
      "execution_count": 8,
      "outputs": []
    },
    {
      "cell_type": "code",
      "source": [
        "for label, cls in enumerate(classes):\n",
        "    cls_dir = os.path.join(data_dir, cls)\n",
        "    if not os.path.isdir(cls_dir):\n",
        "        continue\n",
        "    for file in os.listdir(cls_dir):\n",
        "        path = os.path.join(cls_dir, file)\n",
        "        features = load_image_flatten(path)\n",
        "        if features is not None:\n",
        "            X.append(features)\n",
        "            y.append(label)"
      ],
      "metadata": {
        "id": "RCDCX_fDQ5AF"
      },
      "execution_count": 9,
      "outputs": []
    },
    {
      "cell_type": "code",
      "source": [
        "X = np.array(X)\n",
        "y = np.array(y)"
      ],
      "metadata": {
        "id": "70vZ_JKtQ7vh"
      },
      "execution_count": 10,
      "outputs": []
    },
    {
      "cell_type": "code",
      "source": [
        "def my_pca_with_scaling(X, k):\n",
        "    X_mean = np.mean(X, axis=0)\n",
        "    X_std = np.std(X, axis=0)\n",
        "    X_std[X_std == 0] = 1\n",
        "    X_scaled = (X - X.mean(axis=0)) / X.std(axis=0)\n",
        "\n",
        "    cov_mat = np.cov(X_scaled, rowvar=False)\n",
        "\n",
        "    eigenvalues, eigenvectors = np.linalg.eigh(cov_mat)\n",
        "\n",
        "    sorted_idx = np.argsort(eigenvalues)[::-1]\n",
        "    eigenvectors = eigenvectors[:, sorted_idx]\n",
        "    eigenvalues = eigenvalues[sorted_idx]\n",
        "\n",
        "    eigenvectors_k = eigenvectors[:, :k]\n",
        "\n",
        "\n",
        "    X_reduced = np.dot(X_scaled, eigenvectors_k)\n",
        "\n",
        "    return X_reduced, eigenvectors_k, eigenvalues[:k]"
      ],
      "metadata": {
        "id": "P4pYLod9Q_aD"
      },
      "execution_count": 11,
      "outputs": []
    },
    {
      "cell_type": "code",
      "source": [
        "import matplotlib.pyplot as plt\n",
        "n_components = min(100, X.shape[0])\n",
        "X_pca, eigenvectors_k, eigenvalues_k = my_pca_with_scaling(X, n_components)"
      ],
      "metadata": {
        "id": "1fq36R_RROM6"
      },
      "execution_count": 12,
      "outputs": []
    },
    {
      "cell_type": "code",
      "source": [
        "from sklearn.model_selection import train_test_split\n",
        "X_train, X_test, y_train, y_test = train_test_split(\n",
        "    X_pca, y, test_size=0.2, random_state=42, stratify=y\n",
        ")"
      ],
      "metadata": {
        "id": "W2jb_N2tRRN-"
      },
      "execution_count": 13,
      "outputs": []
    },
    {
      "cell_type": "code",
      "source": [
        "from sklearn.ensemble import RandomForestClassifier\n",
        "clf = RandomForestClassifier(n_estimators=100, random_state=42)\n",
        "clf.fit(X_train, y_train)\n",
        "y_pred = clf.predict(X_test)"
      ],
      "metadata": {
        "id": "F0qvlhfvSW4w"
      },
      "execution_count": 14,
      "outputs": []
    },
    {
      "cell_type": "code",
      "source": [
        "from sklearn.metrics import accuracy_score, classification_report\n",
        "accuracy = accuracy_score(y_test, y_pred)\n",
        "print(f\"Accuracy: {accuracy*100:.2f} %\")\n",
        "print(\"\\nClassification Report:\")\n",
        "print(classification_report(y_test, y_pred, target_names=classes))"
      ],
      "metadata": {
        "colab": {
          "base_uri": "https://localhost:8080/"
        },
        "id": "L7Ex-eKgSjY2",
        "outputId": "2de60f46-b45f-44ea-f3e6-2a6b1a48819c"
      },
      "execution_count": 15,
      "outputs": [
        {
          "output_type": "stream",
          "name": "stdout",
          "text": [
            "Accuracy: 46.23 %\n",
            "\n",
            "Classification Report:\n",
            "              precision    recall  f1-score   support\n",
            "\n",
            "         cat       0.58      0.82      0.68        22\n",
            "         cow       0.28      0.25      0.26        20\n",
            "         dog       0.50      0.43      0.46        21\n",
            "        lamb       0.48      0.52      0.50        21\n",
            "       zebra       0.38      0.27      0.32        22\n",
            "\n",
            "    accuracy                           0.46       106\n",
            "   macro avg       0.44      0.46      0.44       106\n",
            "weighted avg       0.44      0.46      0.45       106\n",
            "\n"
          ]
        }
      ]
    },
    {
      "cell_type": "code",
      "source": [
        "from sklearn.metrics import accuracy_score, classification_report, confusion_matrix\n",
        "import seaborn as sns\n",
        "cm = confusion_matrix(y_test, y_pred)\n",
        "plt.figure(figsize=(6,5))\n",
        "sns.heatmap(cm, annot=True, fmt='d', cmap='Blues', xticklabels=classes, yticklabels=classes)\n",
        "plt.title(\"Confusion Matrix\")\n",
        "plt.xlabel(\"Predicted\")\n",
        "plt.ylabel(\"Actual\")\n",
        "plt.tight_layout()\n",
        "plt.show()"
      ],
      "metadata": {
        "id": "kJezWuBiAKGo",
        "colab": {
          "base_uri": "https://localhost:8080/",
          "height": 507
        },
        "outputId": "b89d2035-d31f-4e7a-c8bd-96daf13ef782"
      },
      "execution_count": 16,
      "outputs": [
        {
          "output_type": "display_data",
          "data": {
            "text/plain": [
              "<Figure size 600x500 with 2 Axes>"
            ],
            "image/png": "[encoded data removed]"
          },
          "metadata": {}
        }
      ]
    },
    {
      "cell_type": "code",
      "source": [
        "import random\n",
        "for i in random.sample(range(len(X_test)), 5):\n",
        "    print(f\"Sample {i}: Predicted: {classes[y_pred[i]]} | Actual: {classes[y_test[i]]}\")\n"
      ],
      "metadata": {
        "colab": {
          "base_uri": "https://localhost:8080/"
        },
        "id": "vYFdsXD0SoBu",
        "outputId": "7df0893b-d2cd-483e-e795-e7ab823678cc"
      },
      "execution_count": 17,
      "outputs": [
        {
          "output_type": "stream",
          "name": "stdout",
          "text": [
            "Sample 34: Predicted: cat | Actual: cat\n",
            "Sample 70: Predicted: lamb | Actual: cow\n",
            "Sample 25: Predicted: zebra | Actual: lamb\n",
            "Sample 73: Predicted: lamb | Actual: cat\n",
            "Sample 83: Predicted: cow | Actual: cow\n"
          ]
        }
      ]
    }
  ]
}